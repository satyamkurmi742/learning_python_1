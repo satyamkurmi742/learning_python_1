{
 "cells": [
  {
   "cell_type": "code",
   "execution_count": 1,
   "id": "1de21b9f-6cde-4951-913f-88dd702cf261",
   "metadata": {},
   "outputs": [],
   "source": [
    "####lecture_7####\n"
   ]
  },
  {
   "cell_type": "code",
   "execution_count": 2,
   "id": "c8975dd9-4a93-4742-bdc2-d8c430eba056",
   "metadata": {},
   "outputs": [],
   "source": [
    "#type conversion ke 2 type hote hai\n",
    "#implicit python apne aap type conversion kr deta hai\n",
    "#explicit batana pdta hai hme\n"
   ]
  },
  {
   "cell_type": "code",
   "execution_count": 3,
   "id": "e6d08e60-ca6f-4820-810e-1fe92c2bb710",
   "metadata": {},
   "outputs": [
    {
     "data": {
      "text/plain": [
       "8.5"
      ]
     },
     "execution_count": 3,
     "metadata": {},
     "output_type": "execute_result"
    }
   ],
   "source": [
    "4+4.5"
   ]
  },
  {
   "cell_type": "code",
   "execution_count": 4,
   "id": "229a2ecf-9a4d-4393-bde4-1ef3dcf30ce8",
   "metadata": {},
   "outputs": [],
   "source": [
    "#upar ek ka data type integer, dusre ka float hai, pr yha python dono data type ko apne aapconvert krke solve kr deta hai."
   ]
  },
  {
   "cell_type": "code",
   "execution_count": 5,
   "id": "b07aad45-492f-4b13-86b9-09025925a3e1",
   "metadata": {},
   "outputs": [
    {
     "data": {
      "text/plain": [
       "(11+7j)"
      ]
     },
     "execution_count": 5,
     "metadata": {},
     "output_type": "execute_result"
    }
   ],
   "source": [
    "5+6+7j"
   ]
  },
  {
   "cell_type": "code",
   "execution_count": 6,
   "id": "3b375f5d-fea2-4436-afbe-5a2178988f0d",
   "metadata": {},
   "outputs": [
    {
     "data": {
      "text/plain": [
       "(9.5+8j)"
      ]
     },
     "execution_count": 6,
     "metadata": {},
     "output_type": "execute_result"
    }
   ],
   "source": [
    "9.5+8j"
   ]
  },
  {
   "cell_type": "code",
   "execution_count": 7,
   "id": "b7b91f47-1649-4742-842f-32ce5b3c82d6",
   "metadata": {},
   "outputs": [],
   "source": [
    "#in teeno cases m python ne implicitly data type smj ke solu de diya. pr certain situations m python ye nhi kr payega or hme khud bata padega ."
   ]
  },
  {
   "cell_type": "code",
   "execution_count": 10,
   "id": "2dcf1c7f-af82-4df4-a823-6bd4bf8e9159",
   "metadata": {},
   "outputs": [
    {
     "name": "stdin",
     "output_type": "stream",
     "text": [
      " 78\n"
     ]
    }
   ],
   "source": [
    "first_num=input()"
   ]
  },
  {
   "cell_type": "code",
   "execution_count": 11,
   "id": "3c7f04d7-1375-4375-9dbf-072863b0aca3",
   "metadata": {},
   "outputs": [
    {
     "name": "stdin",
     "output_type": "stream",
     "text": [
      " 89\n"
     ]
    }
   ],
   "source": [
    "second_num=input()"
   ]
  },
  {
   "cell_type": "code",
   "execution_count": 12,
   "id": "de6f9b83-cafc-48e9-a517-86332fe4f0bd",
   "metadata": {},
   "outputs": [
    {
     "name": "stdout",
     "output_type": "stream",
     "text": [
      "7889\n"
     ]
    }
   ],
   "source": [
    "print(first_num+second_num)"
   ]
  },
  {
   "cell_type": "code",
   "execution_count": 13,
   "id": "4a342281-67e2-4a02-bcb8-c993778ecd60",
   "metadata": {},
   "outputs": [
    {
     "data": {
      "text/plain": [
       "'7889'"
      ]
     },
     "execution_count": 13,
     "metadata": {},
     "output_type": "execute_result"
    }
   ],
   "source": [
    "first_num+second_num"
   ]
  },
  {
   "cell_type": "code",
   "execution_count": 14,
   "id": "1de31af2-97aa-40dd-a846-a5adbe4661ba",
   "metadata": {},
   "outputs": [
    {
     "data": {
      "text/plain": [
       "56"
      ]
     },
     "execution_count": 14,
     "metadata": {},
     "output_type": "execute_result"
    }
   ],
   "source": [
    "# int \n",
    "int('56')"
   ]
  },
  {
   "cell_type": "code",
   "execution_count": 17,
   "id": "7298c5ba-078a-4f4f-bdb6-ccbd704d1f4b",
   "metadata": {},
   "outputs": [
    {
     "data": {
      "text/plain": [
       "4"
      ]
     },
     "execution_count": 17,
     "metadata": {},
     "output_type": "execute_result"
    }
   ],
   "source": [
    "int(4.5)"
   ]
  },
  {
   "cell_type": "code",
   "execution_count": 18,
   "id": "5fbeb8e4-34e8-4e05-becf-eff0b563c0ed",
   "metadata": {},
   "outputs": [
    {
     "data": {
      "text/plain": [
       "9.0"
      ]
     },
     "execution_count": 18,
     "metadata": {},
     "output_type": "execute_result"
    }
   ],
   "source": [
    "float(9)"
   ]
  },
  {
   "cell_type": "code",
   "execution_count": 19,
   "id": "8a02f72d-65ad-4dc0-bc11-d550595854e4",
   "metadata": {},
   "outputs": [
    {
     "data": {
      "text/plain": [
       "'78'"
      ]
     },
     "execution_count": 19,
     "metadata": {},
     "output_type": "execute_result"
    }
   ],
   "source": [
    "str(78)"
   ]
  },
  {
   "cell_type": "code",
   "execution_count": 20,
   "id": "7c6ab16a-64c6-4533-a4e9-b8e42712a651",
   "metadata": {},
   "outputs": [
    {
     "data": {
      "text/plain": [
       "True"
      ]
     },
     "execution_count": 20,
     "metadata": {},
     "output_type": "execute_result"
    }
   ],
   "source": [
    "bool(4)"
   ]
  },
  {
   "cell_type": "code",
   "execution_count": 21,
   "id": "cd6fe23f-cf35-4c6b-ad86-35e8ca740c63",
   "metadata": {},
   "outputs": [
    {
     "data": {
      "text/plain": [
       "(4+0j)"
      ]
     },
     "execution_count": 21,
     "metadata": {},
     "output_type": "execute_result"
    }
   ],
   "source": [
    "complex(4)"
   ]
  },
  {
   "cell_type": "code",
   "execution_count": 23,
   "id": "a753233e-8223-4a5d-9d75-45853986d2b3",
   "metadata": {},
   "outputs": [
    {
     "data": {
      "text/plain": [
       "['H', 'e', 'l', 'l', 'o']"
      ]
     },
     "execution_count": 23,
     "metadata": {},
     "output_type": "execute_result"
    }
   ],
   "source": [
    "list('Hello')"
   ]
  },
  {
   "cell_type": "code",
   "execution_count": 24,
   "id": "cba5ffa4-1ecf-430e-8a13-48c4eea0d30a",
   "metadata": {},
   "outputs": [
    {
     "ename": "ValueError",
     "evalue": "invalid literal for int() with base 10: 'saty'",
     "output_type": "error",
     "traceback": [
      "\u001b[0;31m---------------------------------------------------------------------------\u001b[0m",
      "\u001b[0;31mValueError\u001b[0m                                Traceback (most recent call last)",
      "Cell \u001b[0;32mIn[24], line 1\u001b[0m\n\u001b[0;32m----> 1\u001b[0m \u001b[38;5;28;43mint\u001b[39;49m\u001b[43m(\u001b[49m\u001b[38;5;124;43m'\u001b[39;49m\u001b[38;5;124;43msaty\u001b[39;49m\u001b[38;5;124;43m'\u001b[39;49m\u001b[43m)\u001b[49m\n",
      "\u001b[0;31mValueError\u001b[0m: invalid literal for int() with base 10: 'saty'"
     ]
    }
   ],
   "source": [
    "int('saty')"
   ]
  },
  {
   "cell_type": "code",
   "execution_count": 25,
   "id": "9f81eef7-d8f6-4836-a290-96b9436ca3b3",
   "metadata": {},
   "outputs": [],
   "source": [
    "#type conversion is not a permannent operation\n"
   ]
  },
  {
   "cell_type": "code",
   "execution_count": 26,
   "id": "b758b372-277d-4505-8eb8-4d08ce98f554",
   "metadata": {},
   "outputs": [],
   "source": [
    "a=4.6"
   ]
  },
  {
   "cell_type": "code",
   "execution_count": 27,
   "id": "74399da8-9275-46df-9cca-951979ace9ee",
   "metadata": {},
   "outputs": [
    {
     "data": {
      "text/plain": [
       "4"
      ]
     },
     "execution_count": 27,
     "metadata": {},
     "output_type": "execute_result"
    }
   ],
   "source": [
    "int(a)"
   ]
  },
  {
   "cell_type": "code",
   "execution_count": 28,
   "id": "7ca82f7c-cae4-4332-bbfa-753574534ec8",
   "metadata": {},
   "outputs": [
    {
     "data": {
      "text/plain": [
       "True"
      ]
     },
     "execution_count": 28,
     "metadata": {},
     "output_type": "execute_result"
    }
   ],
   "source": [
    "bool(a)"
   ]
  },
  {
   "cell_type": "code",
   "execution_count": 29,
   "id": "9e4f1072-2363-499a-9dbc-950b5c7a67d6",
   "metadata": {},
   "outputs": [
    {
     "data": {
      "text/plain": [
       "(4.6+0j)"
      ]
     },
     "execution_count": 29,
     "metadata": {},
     "output_type": "execute_result"
    }
   ],
   "source": [
    "complex(a)"
   ]
  },
  {
   "cell_type": "code",
   "execution_count": 30,
   "id": "71267814-75aa-4ad7-9884-365de4aeec29",
   "metadata": {},
   "outputs": [],
   "source": [
    "#yha a ki value 4.6 hi rhegi jo ki originally thi(float). type conversion is not permanent.jese c and java mai type casting hoti h, vo permanent hoti h."
   ]
  },
  {
   "cell_type": "code",
   "execution_count": 33,
   "id": "6fe4cbea-e03c-41fd-ab97-eae0dbe70f45",
   "metadata": {},
   "outputs": [
    {
     "name": "stdin",
     "output_type": "stream",
     "text": [
      "enter the first number 88\n",
      "enter the second number 56\n"
     ]
    },
    {
     "name": "stdout",
     "output_type": "stream",
     "text": [
      "8856\n"
     ]
    }
   ],
   "source": [
    "first_num=input(\"enter the first number\")\n",
    "second_num=input(\"enter the second number\")\n",
    "\n",
    "result=first_num+second_num\n",
    "print(result)"
   ]
  },
  {
   "cell_type": "code",
   "execution_count": 37,
   "id": "5b2c5651-5084-43ce-804a-f8528b779907",
   "metadata": {},
   "outputs": [
    {
     "name": "stdin",
     "output_type": "stream",
     "text": [
      "enter the first number 78\n",
      "enter the second number 89\n"
     ]
    },
    {
     "name": "stdout",
     "output_type": "stream",
     "text": [
      "167\n"
     ]
    }
   ],
   "source": [
    "first_num=input(\"enter the first number\")\n",
    "second_num=input(\"enter the second number\")\n",
    "\n",
    "result=int(first_num)+int(second_num) \n",
    "print(result)"
   ]
  },
  {
   "cell_type": "code",
   "execution_count": 1,
   "id": "fd07dba6-b78b-43e5-9e05-ce87ba4d89b9",
   "metadata": {},
   "outputs": [
    {
     "name": "stdin",
     "output_type": "stream",
     "text": [
      "enter the first number 78\n",
      "enter the second number 67\n"
     ]
    },
    {
     "name": "stdout",
     "output_type": "stream",
     "text": [
      "145\n"
     ]
    }
   ],
   "source": [
    "first_num=int(input(\"enter the first number\"))\n",
    "second_num=int(input(\"enter the second number\"))\n",
    "\n",
    "result=first_num+second_num\n",
    "print(result)"
   ]
  },
  {
   "cell_type": "code",
   "execution_count": 1,
   "id": "e9ad7898-1ac9-4b66-a886-14c07a11c59e",
   "metadata": {},
   "outputs": [],
   "source": [
    "###class 8####"
   ]
  },
  {
   "cell_type": "code",
   "execution_count": 3,
   "id": "4fa64295-307e-4fbd-9bca-e3e2b42e4aac",
   "metadata": {},
   "outputs": [],
   "source": [
    "#Literals- raw data given in a variable.various types of literals are:numeriac , string, boolean , special literals."
   ]
  },
  {
   "cell_type": "code",
   "execution_count": 2,
   "id": "f2bcd544-4cfb-4237-b1b9-ae75e0981840",
   "metadata": {},
   "outputs": [],
   "source": [
    "#Numeric literals\n",
    "a = 0b1010 #binary literal\n",
    "b=100#decimal literal\n",
    "c=0o310#octal literal\n",
    "d=0x12c#hexadecimal literale"
   ]
  },
  {
   "cell_type": "code",
   "execution_count": 1,
   "id": "20ae4a50-db6b-454d-a9e5-9ee6e0987139",
   "metadata": {},
   "outputs": [
    {
     "ename": "SyntaxError",
     "evalue": "invalid decimal literal (3468812867.py, line 3)",
     "output_type": "error",
     "traceback": [
      "\u001b[0;36m  Cell \u001b[0;32mIn[1], line 3\u001b[0;36m\u001b[0m\n\u001b[0;31m    float_2=1.se2\u001b[0m\n\u001b[0m             ^\u001b[0m\n\u001b[0;31mSyntaxError\u001b[0m\u001b[0;31m:\u001b[0m invalid decimal literal\n"
     ]
    }
   ],
   "source": [
    "#float literal\n",
    "float_1=10.5\n",
    "float_2=1.se2\n",
    "float_3=1.Se-3\n",
    "\n",
    "#complex literal\n",
    "x=3.14j\n",
    "\n",
    "print(a,b,c,d)\n",
    "print(float_1,float_2,float_3)\n",
    "print(x,x.imag,x.real)"
   ]
  },
  {
   "cell_type": "code",
   "execution_count": null,
   "id": "59d2d6bc-dcb1-47fc-8649-e9ef355728d2",
   "metadata": {},
   "outputs": [],
   "source": []
  }
 ],
 "metadata": {
  "kernelspec": {
   "display_name": "anaconda-2024.02-py310",
   "language": "python",
   "name": "conda-env-anaconda-2024.02-py310-py"
  },
  "language_info": {
   "codemirror_mode": {
    "name": "ipython",
    "version": 3
   },
   "file_extension": ".py",
   "mimetype": "text/x-python",
   "name": "python",
   "nbconvert_exporter": "python",
   "pygments_lexer": "ipython3",
   "version": "3.10.14"
  }
 },
 "nbformat": 4,
 "nbformat_minor": 5
}
