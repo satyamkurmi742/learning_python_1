{
  "cells": [
    {
      "cell_type": "markdown",
      "metadata": {
        "id": "view-in-github",
        "colab_type": "text"
      },
      "source": [
        "<a href=\"https://colab.research.google.com/github/satyamkurmi742/learning_python_1/blob/main/anaconda_jupiter.ipynb\" target=\"_parent\"><img src=\"https://colab.research.google.com/assets/colab-badge.svg\" alt=\"Open In Colab\"/></a>"
      ]
    },
    {
      "cell_type": "code",
      "execution_count": null,
      "id": "1de21b9f-6cde-4951-913f-88dd702cf261",
      "metadata": {
        "id": "1de21b9f-6cde-4951-913f-88dd702cf261"
      },
      "outputs": [],
      "source": [
        "####lecture_7####\n"
      ]
    },
    {
      "cell_type": "code",
      "execution_count": null,
      "id": "c8975dd9-4a93-4742-bdc2-d8c430eba056",
      "metadata": {
        "id": "c8975dd9-4a93-4742-bdc2-d8c430eba056"
      },
      "outputs": [],
      "source": [
        "#type conversion ke 2 type hote hai\n",
        "#implicit python apne aap type conversion kr deta hai\n",
        "#explicit batana pdta hai hme\n"
      ]
    },
    {
      "cell_type": "code",
      "execution_count": null,
      "id": "e6d08e60-ca6f-4820-810e-1fe92c2bb710",
      "metadata": {
        "id": "e6d08e60-ca6f-4820-810e-1fe92c2bb710",
        "outputId": "f54af327-40d4-4a98-a468-8191328cc4d2"
      },
      "outputs": [
        {
          "data": {
            "text/plain": [
              "8.5"
            ]
          },
          "execution_count": 3,
          "metadata": {},
          "output_type": "execute_result"
        }
      ],
      "source": [
        "4+4.5"
      ]
    },
    {
      "cell_type": "code",
      "execution_count": null,
      "id": "229a2ecf-9a4d-4393-bde4-1ef3dcf30ce8",
      "metadata": {
        "id": "229a2ecf-9a4d-4393-bde4-1ef3dcf30ce8"
      },
      "outputs": [],
      "source": [
        "#upar ek ka data type integer, dusre ka float hai, pr yha python dono data type ko apne aapconvert krke solve kr deta hai."
      ]
    },
    {
      "cell_type": "code",
      "execution_count": null,
      "id": "b07aad45-492f-4b13-86b9-09025925a3e1",
      "metadata": {
        "id": "b07aad45-492f-4b13-86b9-09025925a3e1",
        "outputId": "efabb40e-ce96-4eda-ec8c-3edcfe4a45de"
      },
      "outputs": [
        {
          "data": {
            "text/plain": [
              "(11+7j)"
            ]
          },
          "execution_count": 5,
          "metadata": {},
          "output_type": "execute_result"
        }
      ],
      "source": [
        "5+6+7j"
      ]
    },
    {
      "cell_type": "code",
      "execution_count": null,
      "id": "3b375f5d-fea2-4436-afbe-5a2178988f0d",
      "metadata": {
        "id": "3b375f5d-fea2-4436-afbe-5a2178988f0d",
        "outputId": "aaf563fa-2159-4104-a513-86e8bc8fbab1"
      },
      "outputs": [
        {
          "data": {
            "text/plain": [
              "(9.5+8j)"
            ]
          },
          "execution_count": 6,
          "metadata": {},
          "output_type": "execute_result"
        }
      ],
      "source": [
        "9.5+8j"
      ]
    },
    {
      "cell_type": "code",
      "execution_count": null,
      "id": "b7b91f47-1649-4742-842f-32ce5b3c82d6",
      "metadata": {
        "id": "b7b91f47-1649-4742-842f-32ce5b3c82d6"
      },
      "outputs": [],
      "source": [
        "#in teeno cases m python ne implicitly data type smj ke solu de diya. pr certain situations m python ye nhi kr payega or hme khud bata padega ."
      ]
    },
    {
      "cell_type": "code",
      "execution_count": null,
      "id": "2dcf1c7f-af82-4df4-a823-6bd4bf8e9159",
      "metadata": {
        "id": "2dcf1c7f-af82-4df4-a823-6bd4bf8e9159",
        "outputId": "6d9b5917-cddc-4453-918a-b439fb127ddb"
      },
      "outputs": [
        {
          "name": "stdin",
          "output_type": "stream",
          "text": [
            " 78\n"
          ]
        }
      ],
      "source": [
        "first_num=input()"
      ]
    },
    {
      "cell_type": "code",
      "execution_count": null,
      "id": "3c7f04d7-1375-4375-9dbf-072863b0aca3",
      "metadata": {
        "id": "3c7f04d7-1375-4375-9dbf-072863b0aca3",
        "outputId": "d5652974-645f-4415-bca2-dc95724235fe"
      },
      "outputs": [
        {
          "name": "stdin",
          "output_type": "stream",
          "text": [
            " 89\n"
          ]
        }
      ],
      "source": [
        "second_num=input()"
      ]
    },
    {
      "cell_type": "code",
      "execution_count": null,
      "id": "de6f9b83-cafc-48e9-a517-86332fe4f0bd",
      "metadata": {
        "id": "de6f9b83-cafc-48e9-a517-86332fe4f0bd",
        "outputId": "6b83fdee-3e33-4f16-cd73-3ebe187ae27c"
      },
      "outputs": [
        {
          "name": "stdout",
          "output_type": "stream",
          "text": [
            "7889\n"
          ]
        }
      ],
      "source": [
        "print(first_num+second_num)"
      ]
    },
    {
      "cell_type": "code",
      "execution_count": null,
      "id": "4a342281-67e2-4a02-bcb8-c993778ecd60",
      "metadata": {
        "id": "4a342281-67e2-4a02-bcb8-c993778ecd60",
        "outputId": "a348486b-d719-4e5a-e2c4-c0af33602171"
      },
      "outputs": [
        {
          "data": {
            "text/plain": [
              "'7889'"
            ]
          },
          "execution_count": 13,
          "metadata": {},
          "output_type": "execute_result"
        }
      ],
      "source": [
        "first_num+second_num"
      ]
    },
    {
      "cell_type": "code",
      "execution_count": null,
      "id": "1de31af2-97aa-40dd-a846-a5adbe4661ba",
      "metadata": {
        "id": "1de31af2-97aa-40dd-a846-a5adbe4661ba",
        "outputId": "72526124-0002-44c1-e059-a6640a71b598"
      },
      "outputs": [
        {
          "data": {
            "text/plain": [
              "56"
            ]
          },
          "execution_count": 14,
          "metadata": {},
          "output_type": "execute_result"
        }
      ],
      "source": [
        "# int\n",
        "int('56')"
      ]
    },
    {
      "cell_type": "code",
      "execution_count": null,
      "id": "7298c5ba-078a-4f4f-bdb6-ccbd704d1f4b",
      "metadata": {
        "id": "7298c5ba-078a-4f4f-bdb6-ccbd704d1f4b",
        "outputId": "a5919f31-ed2a-46f6-b770-417ed77e1cff"
      },
      "outputs": [
        {
          "data": {
            "text/plain": [
              "4"
            ]
          },
          "execution_count": 17,
          "metadata": {},
          "output_type": "execute_result"
        }
      ],
      "source": [
        "int(4.5)"
      ]
    },
    {
      "cell_type": "code",
      "execution_count": null,
      "id": "5fbeb8e4-34e8-4e05-becf-eff0b563c0ed",
      "metadata": {
        "id": "5fbeb8e4-34e8-4e05-becf-eff0b563c0ed",
        "outputId": "6c779c65-b2c0-4026-d3c2-859b654f1163"
      },
      "outputs": [
        {
          "data": {
            "text/plain": [
              "9.0"
            ]
          },
          "execution_count": 18,
          "metadata": {},
          "output_type": "execute_result"
        }
      ],
      "source": [
        "float(9)"
      ]
    },
    {
      "cell_type": "code",
      "execution_count": null,
      "id": "8a02f72d-65ad-4dc0-bc11-d550595854e4",
      "metadata": {
        "id": "8a02f72d-65ad-4dc0-bc11-d550595854e4",
        "outputId": "37b2ff5b-6c08-45ea-d2d0-23e411848629"
      },
      "outputs": [
        {
          "data": {
            "text/plain": [
              "'78'"
            ]
          },
          "execution_count": 19,
          "metadata": {},
          "output_type": "execute_result"
        }
      ],
      "source": [
        "str(78)"
      ]
    },
    {
      "cell_type": "code",
      "execution_count": null,
      "id": "7c6ab16a-64c6-4533-a4e9-b8e42712a651",
      "metadata": {
        "id": "7c6ab16a-64c6-4533-a4e9-b8e42712a651",
        "outputId": "f53a57c9-36ff-4e2f-ddbc-0d58a83420dd"
      },
      "outputs": [
        {
          "data": {
            "text/plain": [
              "True"
            ]
          },
          "execution_count": 20,
          "metadata": {},
          "output_type": "execute_result"
        }
      ],
      "source": [
        "bool(4)"
      ]
    },
    {
      "cell_type": "code",
      "execution_count": null,
      "id": "cd6fe23f-cf35-4c6b-ad86-35e8ca740c63",
      "metadata": {
        "id": "cd6fe23f-cf35-4c6b-ad86-35e8ca740c63",
        "outputId": "dc9af732-9f6b-4d93-f26b-07f414e99fe4"
      },
      "outputs": [
        {
          "data": {
            "text/plain": [
              "(4+0j)"
            ]
          },
          "execution_count": 21,
          "metadata": {},
          "output_type": "execute_result"
        }
      ],
      "source": [
        "complex(4)"
      ]
    },
    {
      "cell_type": "code",
      "execution_count": null,
      "id": "a753233e-8223-4a5d-9d75-45853986d2b3",
      "metadata": {
        "id": "a753233e-8223-4a5d-9d75-45853986d2b3",
        "outputId": "726e10b6-6212-4a04-b374-82fe4e83f8a3"
      },
      "outputs": [
        {
          "data": {
            "text/plain": [
              "['H', 'e', 'l', 'l', 'o']"
            ]
          },
          "execution_count": 23,
          "metadata": {},
          "output_type": "execute_result"
        }
      ],
      "source": [
        "list('Hello')"
      ]
    },
    {
      "cell_type": "code",
      "execution_count": null,
      "id": "cba5ffa4-1ecf-430e-8a13-48c4eea0d30a",
      "metadata": {
        "id": "cba5ffa4-1ecf-430e-8a13-48c4eea0d30a",
        "outputId": "23d622a2-be86-4ed1-d37b-574f52181f17"
      },
      "outputs": [
        {
          "ename": "ValueError",
          "evalue": "invalid literal for int() with base 10: 'saty'",
          "output_type": "error",
          "traceback": [
            "\u001b[0;31m---------------------------------------------------------------------------\u001b[0m",
            "\u001b[0;31mValueError\u001b[0m                                Traceback (most recent call last)",
            "Cell \u001b[0;32mIn[24], line 1\u001b[0m\n\u001b[0;32m----> 1\u001b[0m \u001b[38;5;28;43mint\u001b[39;49m\u001b[43m(\u001b[49m\u001b[38;5;124;43m'\u001b[39;49m\u001b[38;5;124;43msaty\u001b[39;49m\u001b[38;5;124;43m'\u001b[39;49m\u001b[43m)\u001b[49m\n",
            "\u001b[0;31mValueError\u001b[0m: invalid literal for int() with base 10: 'saty'"
          ]
        }
      ],
      "source": [
        "int('saty')"
      ]
    },
    {
      "cell_type": "code",
      "execution_count": null,
      "id": "9f81eef7-d8f6-4836-a290-96b9436ca3b3",
      "metadata": {
        "id": "9f81eef7-d8f6-4836-a290-96b9436ca3b3"
      },
      "outputs": [],
      "source": [
        "#type conversion is not a permannent operation\n"
      ]
    },
    {
      "cell_type": "code",
      "execution_count": null,
      "id": "b758b372-277d-4505-8eb8-4d08ce98f554",
      "metadata": {
        "id": "b758b372-277d-4505-8eb8-4d08ce98f554"
      },
      "outputs": [],
      "source": [
        "a=4.6"
      ]
    },
    {
      "cell_type": "code",
      "execution_count": null,
      "id": "74399da8-9275-46df-9cca-951979ace9ee",
      "metadata": {
        "id": "74399da8-9275-46df-9cca-951979ace9ee",
        "outputId": "426a9cca-a6fd-4482-e5b5-560357588c0e"
      },
      "outputs": [
        {
          "data": {
            "text/plain": [
              "4"
            ]
          },
          "execution_count": 27,
          "metadata": {},
          "output_type": "execute_result"
        }
      ],
      "source": [
        "int(a)"
      ]
    },
    {
      "cell_type": "code",
      "execution_count": null,
      "id": "7ca82f7c-cae4-4332-bbfa-753574534ec8",
      "metadata": {
        "id": "7ca82f7c-cae4-4332-bbfa-753574534ec8",
        "outputId": "72e44d58-aabe-4cda-8b60-f7c90f41f857"
      },
      "outputs": [
        {
          "data": {
            "text/plain": [
              "True"
            ]
          },
          "execution_count": 28,
          "metadata": {},
          "output_type": "execute_result"
        }
      ],
      "source": [
        "bool(a)"
      ]
    },
    {
      "cell_type": "code",
      "execution_count": null,
      "id": "9e4f1072-2363-499a-9dbc-950b5c7a67d6",
      "metadata": {
        "id": "9e4f1072-2363-499a-9dbc-950b5c7a67d6",
        "outputId": "097ed396-b35f-4881-bfb5-25202443a62b"
      },
      "outputs": [
        {
          "data": {
            "text/plain": [
              "(4.6+0j)"
            ]
          },
          "execution_count": 29,
          "metadata": {},
          "output_type": "execute_result"
        }
      ],
      "source": [
        "complex(a)"
      ]
    },
    {
      "cell_type": "code",
      "execution_count": null,
      "id": "71267814-75aa-4ad7-9884-365de4aeec29",
      "metadata": {
        "id": "71267814-75aa-4ad7-9884-365de4aeec29"
      },
      "outputs": [],
      "source": [
        "#yha a ki value 4.6 hi rhegi jo ki originally thi(float). type conversion is not permanent.jese c and java mai type casting hoti h, vo permanent hoti h."
      ]
    },
    {
      "cell_type": "code",
      "execution_count": null,
      "id": "6fe4cbea-e03c-41fd-ab97-eae0dbe70f45",
      "metadata": {
        "id": "6fe4cbea-e03c-41fd-ab97-eae0dbe70f45",
        "outputId": "133ec4c2-b54f-44f9-8c50-ed8c7602decd"
      },
      "outputs": [
        {
          "name": "stdin",
          "output_type": "stream",
          "text": [
            "enter the first number 88\n",
            "enter the second number 56\n"
          ]
        },
        {
          "name": "stdout",
          "output_type": "stream",
          "text": [
            "8856\n"
          ]
        }
      ],
      "source": [
        "first_num=input(\"enter the first number\")\n",
        "second_num=input(\"enter the second number\")\n",
        "\n",
        "result=first_num+second_num\n",
        "print(result)"
      ]
    },
    {
      "cell_type": "code",
      "execution_count": null,
      "id": "5b2c5651-5084-43ce-804a-f8528b779907",
      "metadata": {
        "id": "5b2c5651-5084-43ce-804a-f8528b779907",
        "outputId": "04de97b4-7b54-423d-fedb-baa43bbda762"
      },
      "outputs": [
        {
          "name": "stdin",
          "output_type": "stream",
          "text": [
            "enter the first number 78\n",
            "enter the second number 89\n"
          ]
        },
        {
          "name": "stdout",
          "output_type": "stream",
          "text": [
            "167\n"
          ]
        }
      ],
      "source": [
        "first_num=input(\"enter the first number\")\n",
        "second_num=input(\"enter the second number\")\n",
        "\n",
        "result=int(first_num)+int(second_num)\n",
        "print(result)"
      ]
    },
    {
      "cell_type": "code",
      "execution_count": null,
      "id": "fd07dba6-b78b-43e5-9e05-ce87ba4d89b9",
      "metadata": {
        "id": "fd07dba6-b78b-43e5-9e05-ce87ba4d89b9",
        "outputId": "313a7d9b-9fd6-4818-b7bb-764595cc6410"
      },
      "outputs": [
        {
          "name": "stdin",
          "output_type": "stream",
          "text": [
            "enter the first number 78\n",
            "enter the second number 67\n"
          ]
        },
        {
          "name": "stdout",
          "output_type": "stream",
          "text": [
            "145\n"
          ]
        }
      ],
      "source": [
        "first_num=int(input(\"enter the first number\"))\n",
        "second_num=int(input(\"enter the second number\"))\n",
        "\n",
        "result=first_num+second_num\n",
        "print(result)"
      ]
    },
    {
      "cell_type": "code",
      "execution_count": null,
      "id": "e9ad7898-1ac9-4b66-a886-14c07a11c59e",
      "metadata": {
        "id": "e9ad7898-1ac9-4b66-a886-14c07a11c59e"
      },
      "outputs": [],
      "source": [
        "###class 8####"
      ]
    },
    {
      "cell_type": "code",
      "execution_count": null,
      "id": "4fa64295-307e-4fbd-9bca-e3e2b42e4aac",
      "metadata": {
        "id": "4fa64295-307e-4fbd-9bca-e3e2b42e4aac"
      },
      "outputs": [],
      "source": [
        "#Literals- raw data given in a variable.various types of literals are:numeriac , string, boolean , special literals."
      ]
    },
    {
      "cell_type": "code",
      "execution_count": null,
      "id": "f2bcd544-4cfb-4237-b1b9-ae75e0981840",
      "metadata": {
        "id": "f2bcd544-4cfb-4237-b1b9-ae75e0981840"
      },
      "outputs": [],
      "source": [
        "#Numeric literals\n",
        "a = 0b1010 #binary literal\n",
        "b=100#decimal literal\n",
        "c=0o310#octal literal\n",
        "d=0x12c#hexadecimal literale"
      ]
    },
    {
      "cell_type": "code",
      "execution_count": null,
      "id": "20ae4a50-db6b-454d-a9e5-9ee6e0987139",
      "metadata": {
        "id": "20ae4a50-db6b-454d-a9e5-9ee6e0987139",
        "outputId": "726b5ea6-39cb-456f-fbc0-c702e45bcbe0"
      },
      "outputs": [
        {
          "ename": "SyntaxError",
          "evalue": "invalid decimal literal (3468812867.py, line 3)",
          "output_type": "error",
          "traceback": [
            "\u001b[0;36m  Cell \u001b[0;32mIn[1], line 3\u001b[0;36m\u001b[0m\n\u001b[0;31m    float_2=1.se2\u001b[0m\n\u001b[0m             ^\u001b[0m\n\u001b[0;31mSyntaxError\u001b[0m\u001b[0;31m:\u001b[0m invalid decimal literal\n"
          ]
        }
      ],
      "source": [
        "#float literal\n",
        "float_1=10.5\n",
        "float_2=1.se2\n",
        "float_3=1.Se-3\n",
        "\n",
        "#complex literal\n",
        "x=3.14j\n",
        "\n",
        "print(a,b,c,d)\n",
        "print(float_1,float_2,float_3)\n",
        "print(x,x.imag,x.real)"
      ]
    },
    {
      "cell_type": "code",
      "execution_count": null,
      "id": "59d2d6bc-dcb1-47fc-8649-e9ef355728d2",
      "metadata": {
        "colab": {
          "base_uri": "https://localhost:8080/"
        },
        "id": "59d2d6bc-dcb1-47fc-8649-e9ef355728d2",
        "outputId": "a7546b3b-3f7a-4d8b-d254-3c9f23847b97"
      },
      "outputs": [
        {
          "output_type": "stream",
          "name": "stdout",
          "text": [
            "9\n"
          ]
        }
      ],
      "source": [
        "a = 3\n",
        "b = 3\n",
        "print(a*b)"
      ]
    },
    {
      "cell_type": "code",
      "source": [
        "arr = [3,4,5]\n",
        "for i in arr:\n",
        "  print(i)"
      ],
      "metadata": {
        "id": "6qX8F9FcBXUX",
        "outputId": "6551d932-a3f4-4b38-eff7-bb5db457b5cc",
        "colab": {
          "base_uri": "https://localhost:8080/"
        }
      },
      "id": "6qX8F9FcBXUX",
      "execution_count": 1,
      "outputs": [
        {
          "output_type": "stream",
          "name": "stdout",
          "text": [
            "3\n",
            "4\n",
            "5\n"
          ]
        }
      ]
    },
    {
      "cell_type": "code",
      "source": [],
      "metadata": {
        "id": "9P8WEmv3CzHF"
      },
      "id": "9P8WEmv3CzHF",
      "execution_count": null,
      "outputs": []
    }
  ],
  "metadata": {
    "kernelspec": {
      "display_name": "anaconda-2024.02-py310",
      "language": "python",
      "name": "conda-env-anaconda-2024.02-py310-py"
    },
    "language_info": {
      "codemirror_mode": {
        "name": "ipython",
        "version": 3
      },
      "file_extension": ".py",
      "mimetype": "text/x-python",
      "name": "python",
      "nbconvert_exporter": "python",
      "pygments_lexer": "ipython3",
      "version": "3.10.14"
    },
    "colab": {
      "provenance": [],
      "include_colab_link": true
    }
  },
  "nbformat": 4,
  "nbformat_minor": 5
}